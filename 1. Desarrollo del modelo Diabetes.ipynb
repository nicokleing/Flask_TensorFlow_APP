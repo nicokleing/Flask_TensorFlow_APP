{
 "cells": [
  {
   "cell_type": "code",
   "execution_count": 14,
   "metadata": {},
   "outputs": [],
   "source": [
    "import numpy as np\n",
    "import pandas as pd\n",
    "\n",
    "from sklearn.model_selection import train_test_split\n",
    "from sklearn.preprocessing import MinMaxScaler"
   ]
  },
  {
   "cell_type": "code",
   "execution_count": 28,
   "metadata": {},
   "outputs": [
    {
     "name": "stdout",
     "output_type": "stream",
     "text": [
      "Collecting tensorflow\n",
      "  Obtaining dependency information for tensorflow from https://files.pythonhosted.org/packages/93/21/9b035a4f823d6aee2917c75415be9a95861ff3d73a0a65e48edbf210cec1/tensorflow-2.15.0-cp311-cp311-win_amd64.whl.metadata\n",
      "  Using cached tensorflow-2.15.0-cp311-cp311-win_amd64.whl.metadata (3.6 kB)\n",
      "Collecting tensorflow-intel==2.15.0 (from tensorflow)\n",
      "  Obtaining dependency information for tensorflow-intel==2.15.0 from https://files.pythonhosted.org/packages/4c/48/1a5a15517f18eaa4ff8d598b1c000300b20c1bb0e624539d702117a0c369/tensorflow_intel-2.15.0-cp311-cp311-win_amd64.whl.metadata\n",
      "  Using cached tensorflow_intel-2.15.0-cp311-cp311-win_amd64.whl.metadata (5.1 kB)\n",
      "Collecting absl-py>=1.0.0 (from tensorflow-intel==2.15.0->tensorflow)\n",
      "  Obtaining dependency information for absl-py>=1.0.0 from https://files.pythonhosted.org/packages/a2/ad/e0d3c824784ff121c03cc031f944bc7e139a8f1870ffd2845cc2dd76f6c4/absl_py-2.1.0-py3-none-any.whl.metadata\n",
      "  Downloading absl_py-2.1.0-py3-none-any.whl.metadata (2.3 kB)\n",
      "Collecting astunparse>=1.6.0 (from tensorflow-intel==2.15.0->tensorflow)\n",
      "  Using cached astunparse-1.6.3-py2.py3-none-any.whl (12 kB)\n",
      "Collecting flatbuffers>=23.5.26 (from tensorflow-intel==2.15.0->tensorflow)\n",
      "  Obtaining dependency information for flatbuffers>=23.5.26 from https://files.pythonhosted.org/packages/6f/12/d5c79ee252793ffe845d58a913197bfa02ae9a0b5c9bc3dc4b58d477b9e7/flatbuffers-23.5.26-py2.py3-none-any.whl.metadata\n",
      "  Using cached flatbuffers-23.5.26-py2.py3-none-any.whl.metadata (850 bytes)\n",
      "Collecting gast!=0.5.0,!=0.5.1,!=0.5.2,>=0.2.1 (from tensorflow-intel==2.15.0->tensorflow)\n",
      "  Using cached gast-0.5.4-py3-none-any.whl (19 kB)\n",
      "Collecting google-pasta>=0.1.1 (from tensorflow-intel==2.15.0->tensorflow)\n",
      "  Using cached google_pasta-0.2.0-py3-none-any.whl (57 kB)\n",
      "Requirement already satisfied: h5py>=2.9.0 in c:\\users\\nicol\\anaconda3\\lib\\site-packages (from tensorflow-intel==2.15.0->tensorflow) (3.9.0)\n",
      "Collecting libclang>=13.0.0 (from tensorflow-intel==2.15.0->tensorflow)\n",
      "  Obtaining dependency information for libclang>=13.0.0 from https://files.pythonhosted.org/packages/02/8c/dc970bc00867fe290e8c8a7befa1635af716a9ebdfe3fb9dce0ca4b522ce/libclang-16.0.6-py2.py3-none-win_amd64.whl.metadata\n",
      "  Using cached libclang-16.0.6-py2.py3-none-win_amd64.whl.metadata (5.3 kB)\n",
      "Collecting ml-dtypes~=0.2.0 (from tensorflow-intel==2.15.0->tensorflow)\n",
      "  Obtaining dependency information for ml-dtypes~=0.2.0 from https://files.pythonhosted.org/packages/08/89/c727fde1a3d12586e0b8c01abf53754707d76beaa9987640e70807d4545f/ml_dtypes-0.2.0-cp311-cp311-win_amd64.whl.metadata\n",
      "  Using cached ml_dtypes-0.2.0-cp311-cp311-win_amd64.whl.metadata (20 kB)\n",
      "Requirement already satisfied: numpy<2.0.0,>=1.23.5 in c:\\users\\nicol\\anaconda3\\lib\\site-packages (from tensorflow-intel==2.15.0->tensorflow) (1.24.3)\n",
      "Collecting opt-einsum>=2.3.2 (from tensorflow-intel==2.15.0->tensorflow)\n",
      "  Using cached opt_einsum-3.3.0-py3-none-any.whl (65 kB)\n",
      "Requirement already satisfied: packaging in c:\\users\\nicol\\anaconda3\\lib\\site-packages (from tensorflow-intel==2.15.0->tensorflow) (23.1)\n",
      "Collecting protobuf!=4.21.0,!=4.21.1,!=4.21.2,!=4.21.3,!=4.21.4,!=4.21.5,<5.0.0dev,>=3.20.3 (from tensorflow-intel==2.15.0->tensorflow)\n",
      "  Obtaining dependency information for protobuf!=4.21.0,!=4.21.1,!=4.21.2,!=4.21.3,!=4.21.4,!=4.21.5,<5.0.0dev,>=3.20.3 from https://files.pythonhosted.org/packages/c1/00/c3ae19cabb36cfabc94ff0b102aac21b471c9f91a1357f8aafffb9efe8e0/protobuf-4.25.2-cp310-abi3-win_amd64.whl.metadata\n",
      "  Downloading protobuf-4.25.2-cp310-abi3-win_amd64.whl.metadata (541 bytes)\n",
      "Requirement already satisfied: setuptools in c:\\users\\nicol\\anaconda3\\lib\\site-packages (from tensorflow-intel==2.15.0->tensorflow) (68.0.0)\n",
      "Requirement already satisfied: six>=1.12.0 in c:\\users\\nicol\\anaconda3\\lib\\site-packages (from tensorflow-intel==2.15.0->tensorflow) (1.16.0)\n",
      "Collecting termcolor>=1.1.0 (from tensorflow-intel==2.15.0->tensorflow)\n",
      "  Obtaining dependency information for termcolor>=1.1.0 from https://files.pythonhosted.org/packages/d9/5f/8c716e47b3a50cbd7c146f45881e11d9414def768b7cd9c5e6650ec2a80a/termcolor-2.4.0-py3-none-any.whl.metadata\n",
      "  Using cached termcolor-2.4.0-py3-none-any.whl.metadata (6.1 kB)\n",
      "Requirement already satisfied: typing-extensions>=3.6.6 in c:\\users\\nicol\\anaconda3\\lib\\site-packages (from tensorflow-intel==2.15.0->tensorflow) (4.7.1)\n",
      "Requirement already satisfied: wrapt<1.15,>=1.11.0 in c:\\users\\nicol\\anaconda3\\lib\\site-packages (from tensorflow-intel==2.15.0->tensorflow) (1.14.1)\n",
      "Collecting tensorflow-io-gcs-filesystem>=0.23.1 (from tensorflow-intel==2.15.0->tensorflow)\n",
      "  Using cached tensorflow_io_gcs_filesystem-0.31.0-cp311-cp311-win_amd64.whl (1.5 MB)\n",
      "Collecting grpcio<2.0,>=1.24.3 (from tensorflow-intel==2.15.0->tensorflow)\n",
      "  Obtaining dependency information for grpcio<2.0,>=1.24.3 from https://files.pythonhosted.org/packages/7b/3e/a22e7a0ec6be5454dc540063ac5d0843eb72a4641a0892b54b16b1438c0a/grpcio-1.60.1-cp311-cp311-win_amd64.whl.metadata\n",
      "  Downloading grpcio-1.60.1-cp311-cp311-win_amd64.whl.metadata (4.2 kB)\n",
      "Collecting tensorboard<2.16,>=2.15 (from tensorflow-intel==2.15.0->tensorflow)\n",
      "  Obtaining dependency information for tensorboard<2.16,>=2.15 from https://files.pythonhosted.org/packages/6e/0c/1059a6682cf2cc1fcc0d5327837b5672fe4f5574255fa5430d0a8ceb75e9/tensorboard-2.15.1-py3-none-any.whl.metadata\n",
      "  Using cached tensorboard-2.15.1-py3-none-any.whl.metadata (1.7 kB)\n",
      "Collecting tensorflow-estimator<2.16,>=2.15.0 (from tensorflow-intel==2.15.0->tensorflow)\n",
      "  Obtaining dependency information for tensorflow-estimator<2.16,>=2.15.0 from https://files.pythonhosted.org/packages/b6/c8/2f823c8958d5342eafc6dd3e922f0cc4fcf8c2e0460284cc462dae3b60a0/tensorflow_estimator-2.15.0-py2.py3-none-any.whl.metadata\n",
      "  Using cached tensorflow_estimator-2.15.0-py2.py3-none-any.whl.metadata (1.3 kB)\n",
      "Collecting keras<2.16,>=2.15.0 (from tensorflow-intel==2.15.0->tensorflow)\n",
      "  Obtaining dependency information for keras<2.16,>=2.15.0 from https://files.pythonhosted.org/packages/fc/a7/0d4490de967a67f68a538cc9cdb259bff971c4b5787f7765dc7c8f118f71/keras-2.15.0-py3-none-any.whl.metadata\n",
      "  Using cached keras-2.15.0-py3-none-any.whl.metadata (2.4 kB)\n",
      "Requirement already satisfied: wheel<1.0,>=0.23.0 in c:\\users\\nicol\\anaconda3\\lib\\site-packages (from astunparse>=1.6.0->tensorflow-intel==2.15.0->tensorflow) (0.38.4)\n",
      "Collecting google-auth<3,>=1.6.3 (from tensorboard<2.16,>=2.15->tensorflow-intel==2.15.0->tensorflow)\n",
      "  Obtaining dependency information for google-auth<3,>=1.6.3 from https://files.pythonhosted.org/packages/82/41/7fb855444cead5b2213e053447ce3a0b7bf2c3529c443e0cf75b2f13b405/google_auth-2.27.0-py2.py3-none-any.whl.metadata\n",
      "  Downloading google_auth-2.27.0-py2.py3-none-any.whl.metadata (4.7 kB)\n",
      "Collecting google-auth-oauthlib<2,>=0.5 (from tensorboard<2.16,>=2.15->tensorflow-intel==2.15.0->tensorflow)\n",
      "  Obtaining dependency information for google-auth-oauthlib<2,>=0.5 from https://files.pythonhosted.org/packages/71/bf/9e125754d1adb3bc4bd206c4e5df756513b1d23675ac06caa471278d1f3f/google_auth_oauthlib-1.2.0-py2.py3-none-any.whl.metadata\n",
      "  Using cached google_auth_oauthlib-1.2.0-py2.py3-none-any.whl.metadata (2.7 kB)\n",
      "Requirement already satisfied: markdown>=2.6.8 in c:\\users\\nicol\\anaconda3\\lib\\site-packages (from tensorboard<2.16,>=2.15->tensorflow-intel==2.15.0->tensorflow) (3.4.1)\n",
      "Collecting protobuf!=4.21.0,!=4.21.1,!=4.21.2,!=4.21.3,!=4.21.4,!=4.21.5,<5.0.0dev,>=3.20.3 (from tensorflow-intel==2.15.0->tensorflow)\n",
      "  Obtaining dependency information for protobuf!=4.21.0,!=4.21.1,!=4.21.2,!=4.21.3,!=4.21.4,!=4.21.5,<5.0.0dev,>=3.20.3 from https://files.pythonhosted.org/packages/80/70/dc63d340d27b8ff22022d7dd14b8d6d68b479a003eacdc4507150a286d9a/protobuf-4.23.4-cp310-abi3-win_amd64.whl.metadata\n",
      "  Using cached protobuf-4.23.4-cp310-abi3-win_amd64.whl.metadata (540 bytes)\n",
      "Requirement already satisfied: requests<3,>=2.21.0 in c:\\users\\nicol\\anaconda3\\lib\\site-packages (from tensorboard<2.16,>=2.15->tensorflow-intel==2.15.0->tensorflow) (2.31.0)\n",
      "Collecting tensorboard-data-server<0.8.0,>=0.7.0 (from tensorboard<2.16,>=2.15->tensorflow-intel==2.15.0->tensorflow)\n",
      "  Obtaining dependency information for tensorboard-data-server<0.8.0,>=0.7.0 from https://files.pythonhosted.org/packages/7a/13/e503968fefabd4c6b2650af21e110aa8466fe21432cd7c43a84577a89438/tensorboard_data_server-0.7.2-py3-none-any.whl.metadata\n",
      "  Using cached tensorboard_data_server-0.7.2-py3-none-any.whl.metadata (1.1 kB)\n",
      "Requirement already satisfied: werkzeug>=1.0.1 in c:\\users\\nicol\\anaconda3\\lib\\site-packages (from tensorboard<2.16,>=2.15->tensorflow-intel==2.15.0->tensorflow) (2.2.3)\n",
      "Collecting cachetools<6.0,>=2.0.0 (from google-auth<3,>=1.6.3->tensorboard<2.16,>=2.15->tensorflow-intel==2.15.0->tensorflow)\n",
      "  Obtaining dependency information for cachetools<6.0,>=2.0.0 from https://files.pythonhosted.org/packages/a2/91/2d843adb9fbd911e0da45fbf6f18ca89d07a087c3daa23e955584f90ebf4/cachetools-5.3.2-py3-none-any.whl.metadata\n",
      "  Using cached cachetools-5.3.2-py3-none-any.whl.metadata (5.2 kB)\n",
      "Requirement already satisfied: pyasn1-modules>=0.2.1 in c:\\users\\nicol\\anaconda3\\lib\\site-packages (from google-auth<3,>=1.6.3->tensorboard<2.16,>=2.15->tensorflow-intel==2.15.0->tensorflow) (0.2.8)\n",
      "Collecting rsa<5,>=3.1.4 (from google-auth<3,>=1.6.3->tensorboard<2.16,>=2.15->tensorflow-intel==2.15.0->tensorflow)\n",
      "  Using cached rsa-4.9-py3-none-any.whl (34 kB)\n",
      "Collecting requests-oauthlib>=0.7.0 (from google-auth-oauthlib<2,>=0.5->tensorboard<2.16,>=2.15->tensorflow-intel==2.15.0->tensorflow)\n",
      "  Using cached requests_oauthlib-1.3.1-py2.py3-none-any.whl (23 kB)\n",
      "Requirement already satisfied: charset-normalizer<4,>=2 in c:\\users\\nicol\\anaconda3\\lib\\site-packages (from requests<3,>=2.21.0->tensorboard<2.16,>=2.15->tensorflow-intel==2.15.0->tensorflow) (2.0.4)\n",
      "Requirement already satisfied: idna<4,>=2.5 in c:\\users\\nicol\\anaconda3\\lib\\site-packages (from requests<3,>=2.21.0->tensorboard<2.16,>=2.15->tensorflow-intel==2.15.0->tensorflow) (3.4)\n",
      "Requirement already satisfied: urllib3<3,>=1.21.1 in c:\\users\\nicol\\anaconda3\\lib\\site-packages (from requests<3,>=2.21.0->tensorboard<2.16,>=2.15->tensorflow-intel==2.15.0->tensorflow) (1.26.16)\n",
      "Requirement already satisfied: certifi>=2017.4.17 in c:\\users\\nicol\\anaconda3\\lib\\site-packages (from requests<3,>=2.21.0->tensorboard<2.16,>=2.15->tensorflow-intel==2.15.0->tensorflow) (2024.2.2)\n",
      "Requirement already satisfied: MarkupSafe>=2.1.1 in c:\\users\\nicol\\anaconda3\\lib\\site-packages (from werkzeug>=1.0.1->tensorboard<2.16,>=2.15->tensorflow-intel==2.15.0->tensorflow) (2.1.1)\n",
      "Requirement already satisfied: pyasn1<0.5.0,>=0.4.6 in c:\\users\\nicol\\anaconda3\\lib\\site-packages (from pyasn1-modules>=0.2.1->google-auth<3,>=1.6.3->tensorboard<2.16,>=2.15->tensorflow-intel==2.15.0->tensorflow) (0.4.8)\n",
      "Collecting oauthlib>=3.0.0 (from requests-oauthlib>=0.7.0->google-auth-oauthlib<2,>=0.5->tensorboard<2.16,>=2.15->tensorflow-intel==2.15.0->tensorflow)\n",
      "  Using cached oauthlib-3.2.2-py3-none-any.whl (151 kB)\n",
      "Using cached tensorflow-2.15.0-cp311-cp311-win_amd64.whl (2.1 kB)\n",
      "Using cached tensorflow_intel-2.15.0-cp311-cp311-win_amd64.whl (300.9 MB)\n",
      "Downloading absl_py-2.1.0-py3-none-any.whl (133 kB)\n",
      "   ---------------------------------------- 0.0/133.7 kB ? eta -:--:--\n",
      "   ----------- --------------------------- 41.0/133.7 kB 991.0 kB/s eta 0:00:01\n",
      "   ---------------------------------------- 133.7/133.7 kB 2.0 MB/s eta 0:00:00\n",
      "Using cached flatbuffers-23.5.26-py2.py3-none-any.whl (26 kB)\n",
      "Downloading grpcio-1.60.1-cp311-cp311-win_amd64.whl (3.7 MB)\n",
      "   ---------------------------------------- 0.0/3.7 MB ? eta -:--:--\n",
      "   - -------------------------------------- 0.1/3.7 MB ? eta -:--:--\n",
      "   --- ------------------------------------ 0.4/3.7 MB 5.6 MB/s eta 0:00:01\n",
      "   --- ------------------------------------ 0.4/3.7 MB 5.6 MB/s eta 0:00:01\n",
      "   --- ------------------------------------ 0.4/3.7 MB 5.6 MB/s eta 0:00:01\n",
      "   --------- ------------------------------ 0.8/3.7 MB 3.8 MB/s eta 0:00:01\n",
      "   ---------------------- ----------------- 2.1/3.7 MB 7.9 MB/s eta 0:00:01\n",
      "   ---------------------------------------  3.7/3.7 MB 12.4 MB/s eta 0:00:01\n",
      "   ---------------------------------------- 3.7/3.7 MB 11.2 MB/s eta 0:00:00\n",
      "Using cached keras-2.15.0-py3-none-any.whl (1.7 MB)\n",
      "Using cached libclang-16.0.6-py2.py3-none-win_amd64.whl (24.4 MB)\n",
      "Using cached ml_dtypes-0.2.0-cp311-cp311-win_amd64.whl (938 kB)\n",
      "Using cached tensorboard-2.15.1-py3-none-any.whl (5.5 MB)\n",
      "Using cached protobuf-4.23.4-cp310-abi3-win_amd64.whl (422 kB)\n",
      "Using cached tensorflow_estimator-2.15.0-py2.py3-none-any.whl (441 kB)\n",
      "Using cached termcolor-2.4.0-py3-none-any.whl (7.7 kB)\n",
      "Downloading google_auth-2.27.0-py2.py3-none-any.whl (186 kB)\n",
      "   ---------------------------------------- 0.0/186.8 kB ? eta -:--:--\n",
      "   ---------------------------------------- 186.8/186.8 kB ? eta 0:00:00\n",
      "Using cached google_auth_oauthlib-1.2.0-py2.py3-none-any.whl (24 kB)\n",
      "Using cached tensorboard_data_server-0.7.2-py3-none-any.whl (2.4 kB)\n",
      "Using cached cachetools-5.3.2-py3-none-any.whl (9.3 kB)\n",
      "Installing collected packages: libclang, flatbuffers, termcolor, tensorflow-io-gcs-filesystem, tensorflow-estimator, tensorboard-data-server, rsa, protobuf, opt-einsum, oauthlib, ml-dtypes, keras, grpcio, google-pasta, gast, cachetools, astunparse, absl-py, requests-oauthlib, google-auth, google-auth-oauthlib, tensorboard, tensorflow-intel, tensorflow\n",
      "Successfully installed absl-py-2.1.0 astunparse-1.6.3 cachetools-5.3.2 flatbuffers-23.5.26 gast-0.5.4 google-auth-2.27.0 google-auth-oauthlib-1.2.0 google-pasta-0.2.0 grpcio-1.60.1 keras-2.15.0 libclang-16.0.6 ml-dtypes-0.2.0 oauthlib-3.2.2 opt-einsum-3.3.0 protobuf-4.23.4 requests-oauthlib-1.3.1 rsa-4.9 tensorboard-2.15.1 tensorboard-data-server-0.7.2 tensorflow-2.15.0 tensorflow-estimator-2.15.0 tensorflow-intel-2.15.0 tensorflow-io-gcs-filesystem-0.31.0 termcolor-2.4.0\n",
      "Note: you may need to restart the kernel to use updated packages.\n"
     ]
    }
   ],
   "source": [
    "pip install tensorflow\n"
   ]
  },
  {
   "cell_type": "code",
   "execution_count": 15,
   "metadata": {},
   "outputs": [],
   "source": [
    "data = pd.read_csv(\"data/diabetes.csv\")"
   ]
  },
  {
   "cell_type": "code",
   "execution_count": 16,
   "metadata": {},
   "outputs": [
    {
     "data": {
      "text/html": [
       "<div>\n",
       "<style scoped>\n",
       "    .dataframe tbody tr th:only-of-type {\n",
       "        vertical-align: middle;\n",
       "    }\n",
       "\n",
       "    .dataframe tbody tr th {\n",
       "        vertical-align: top;\n",
       "    }\n",
       "\n",
       "    .dataframe thead th {\n",
       "        text-align: right;\n",
       "    }\n",
       "</style>\n",
       "<table border=\"1\" class=\"dataframe\">\n",
       "  <thead>\n",
       "    <tr style=\"text-align: right;\">\n",
       "      <th></th>\n",
       "      <th>Pregnancies</th>\n",
       "      <th>Glucose</th>\n",
       "      <th>BloodPressure</th>\n",
       "      <th>SkinThickness</th>\n",
       "      <th>Insulin</th>\n",
       "      <th>BMI</th>\n",
       "      <th>DiabetesPedigreeFunction</th>\n",
       "      <th>Age</th>\n",
       "      <th>Outcome</th>\n",
       "    </tr>\n",
       "  </thead>\n",
       "  <tbody>\n",
       "    <tr>\n",
       "      <th>0</th>\n",
       "      <td>6</td>\n",
       "      <td>148</td>\n",
       "      <td>72</td>\n",
       "      <td>35</td>\n",
       "      <td>0</td>\n",
       "      <td>33.6</td>\n",
       "      <td>0.627</td>\n",
       "      <td>50</td>\n",
       "      <td>1</td>\n",
       "    </tr>\n",
       "    <tr>\n",
       "      <th>1</th>\n",
       "      <td>1</td>\n",
       "      <td>85</td>\n",
       "      <td>66</td>\n",
       "      <td>29</td>\n",
       "      <td>0</td>\n",
       "      <td>26.6</td>\n",
       "      <td>0.351</td>\n",
       "      <td>31</td>\n",
       "      <td>0</td>\n",
       "    </tr>\n",
       "    <tr>\n",
       "      <th>2</th>\n",
       "      <td>8</td>\n",
       "      <td>183</td>\n",
       "      <td>64</td>\n",
       "      <td>0</td>\n",
       "      <td>0</td>\n",
       "      <td>23.3</td>\n",
       "      <td>0.672</td>\n",
       "      <td>32</td>\n",
       "      <td>1</td>\n",
       "    </tr>\n",
       "    <tr>\n",
       "      <th>3</th>\n",
       "      <td>1</td>\n",
       "      <td>89</td>\n",
       "      <td>66</td>\n",
       "      <td>23</td>\n",
       "      <td>94</td>\n",
       "      <td>28.1</td>\n",
       "      <td>0.167</td>\n",
       "      <td>21</td>\n",
       "      <td>0</td>\n",
       "    </tr>\n",
       "    <tr>\n",
       "      <th>4</th>\n",
       "      <td>0</td>\n",
       "      <td>137</td>\n",
       "      <td>40</td>\n",
       "      <td>35</td>\n",
       "      <td>168</td>\n",
       "      <td>43.1</td>\n",
       "      <td>2.288</td>\n",
       "      <td>33</td>\n",
       "      <td>1</td>\n",
       "    </tr>\n",
       "  </tbody>\n",
       "</table>\n",
       "</div>"
      ],
      "text/plain": [
       "   Pregnancies  Glucose  BloodPressure  SkinThickness  Insulin   BMI  \\\n",
       "0            6      148             72             35        0  33.6   \n",
       "1            1       85             66             29        0  26.6   \n",
       "2            8      183             64              0        0  23.3   \n",
       "3            1       89             66             23       94  28.1   \n",
       "4            0      137             40             35      168  43.1   \n",
       "\n",
       "   DiabetesPedigreeFunction  Age  Outcome  \n",
       "0                     0.627   50        1  \n",
       "1                     0.351   31        0  \n",
       "2                     0.672   32        1  \n",
       "3                     0.167   21        0  \n",
       "4                     2.288   33        1  "
      ]
     },
     "execution_count": 16,
     "metadata": {},
     "output_type": "execute_result"
    }
   ],
   "source": [
    "data.head()"
   ]
  },
  {
   "cell_type": "markdown",
   "metadata": {},
   "source": [
    "## Data Processing"
   ]
  },
  {
   "cell_type": "markdown",
   "metadata": {},
   "source": [
    "### Features and Target"
   ]
  },
  {
   "cell_type": "code",
   "execution_count": 17,
   "metadata": {},
   "outputs": [
    {
     "data": {
      "text/plain": [
       "Index(['Pregnancies', 'Glucose', 'BloodPressure', 'SkinThickness', 'Insulin',\n",
       "       'BMI', 'DiabetesPedigreeFunction', 'Age', 'Outcome'],\n",
       "      dtype='object')"
      ]
     },
     "execution_count": 17,
     "metadata": {},
     "output_type": "execute_result"
    }
   ],
   "source": [
    "data.columns"
   ]
  },
  {
   "cell_type": "code",
   "execution_count": 18,
   "metadata": {},
   "outputs": [],
   "source": [
    "X = data.drop('Outcome',axis=1)\n",
    "y = data['Outcome']"
   ]
  },
  {
   "cell_type": "code",
   "execution_count": 19,
   "metadata": {},
   "outputs": [],
   "source": [
    "X = np.array(X,dtype='float64')\n",
    "y = np.array(y, dtype ='float64')"
   ]
  },
  {
   "cell_type": "code",
   "execution_count": 20,
   "metadata": {},
   "outputs": [
    {
     "data": {
      "text/plain": [
       "array([1, 0], dtype=int64)"
      ]
     },
     "execution_count": 20,
     "metadata": {},
     "output_type": "execute_result"
    }
   ],
   "source": [
    "data['Outcome'].unique()"
   ]
  },
  {
   "cell_type": "code",
   "execution_count": 21,
   "metadata": {},
   "outputs": [],
   "source": [
    "X_train, X_test, y_train, y_test = train_test_split(X, y, test_size=0.2, random_state=101)"
   ]
  },
  {
   "cell_type": "markdown",
   "metadata": {},
   "source": [
    "### Scaling"
   ]
  },
  {
   "cell_type": "code",
   "execution_count": 22,
   "metadata": {},
   "outputs": [],
   "source": [
    "scaler = MinMaxScaler()"
   ]
  },
  {
   "cell_type": "code",
   "execution_count": 23,
   "metadata": {},
   "outputs": [
    {
     "data": {
      "text/html": [
       "<style>#sk-container-id-3 {color: black;}#sk-container-id-3 pre{padding: 0;}#sk-container-id-3 div.sk-toggleable {background-color: white;}#sk-container-id-3 label.sk-toggleable__label {cursor: pointer;display: block;width: 100%;margin-bottom: 0;padding: 0.3em;box-sizing: border-box;text-align: center;}#sk-container-id-3 label.sk-toggleable__label-arrow:before {content: \"▸\";float: left;margin-right: 0.25em;color: #696969;}#sk-container-id-3 label.sk-toggleable__label-arrow:hover:before {color: black;}#sk-container-id-3 div.sk-estimator:hover label.sk-toggleable__label-arrow:before {color: black;}#sk-container-id-3 div.sk-toggleable__content {max-height: 0;max-width: 0;overflow: hidden;text-align: left;background-color: #f0f8ff;}#sk-container-id-3 div.sk-toggleable__content pre {margin: 0.2em;color: black;border-radius: 0.25em;background-color: #f0f8ff;}#sk-container-id-3 input.sk-toggleable__control:checked~div.sk-toggleable__content {max-height: 200px;max-width: 100%;overflow: auto;}#sk-container-id-3 input.sk-toggleable__control:checked~label.sk-toggleable__label-arrow:before {content: \"▾\";}#sk-container-id-3 div.sk-estimator input.sk-toggleable__control:checked~label.sk-toggleable__label {background-color: #d4ebff;}#sk-container-id-3 div.sk-label input.sk-toggleable__control:checked~label.sk-toggleable__label {background-color: #d4ebff;}#sk-container-id-3 input.sk-hidden--visually {border: 0;clip: rect(1px 1px 1px 1px);clip: rect(1px, 1px, 1px, 1px);height: 1px;margin: -1px;overflow: hidden;padding: 0;position: absolute;width: 1px;}#sk-container-id-3 div.sk-estimator {font-family: monospace;background-color: #f0f8ff;border: 1px dotted black;border-radius: 0.25em;box-sizing: border-box;margin-bottom: 0.5em;}#sk-container-id-3 div.sk-estimator:hover {background-color: #d4ebff;}#sk-container-id-3 div.sk-parallel-item::after {content: \"\";width: 100%;border-bottom: 1px solid gray;flex-grow: 1;}#sk-container-id-3 div.sk-label:hover label.sk-toggleable__label {background-color: #d4ebff;}#sk-container-id-3 div.sk-serial::before {content: \"\";position: absolute;border-left: 1px solid gray;box-sizing: border-box;top: 0;bottom: 0;left: 50%;z-index: 0;}#sk-container-id-3 div.sk-serial {display: flex;flex-direction: column;align-items: center;background-color: white;padding-right: 0.2em;padding-left: 0.2em;position: relative;}#sk-container-id-3 div.sk-item {position: relative;z-index: 1;}#sk-container-id-3 div.sk-parallel {display: flex;align-items: stretch;justify-content: center;background-color: white;position: relative;}#sk-container-id-3 div.sk-item::before, #sk-container-id-3 div.sk-parallel-item::before {content: \"\";position: absolute;border-left: 1px solid gray;box-sizing: border-box;top: 0;bottom: 0;left: 50%;z-index: -1;}#sk-container-id-3 div.sk-parallel-item {display: flex;flex-direction: column;z-index: 1;position: relative;background-color: white;}#sk-container-id-3 div.sk-parallel-item:first-child::after {align-self: flex-end;width: 50%;}#sk-container-id-3 div.sk-parallel-item:last-child::after {align-self: flex-start;width: 50%;}#sk-container-id-3 div.sk-parallel-item:only-child::after {width: 0;}#sk-container-id-3 div.sk-dashed-wrapped {border: 1px dashed gray;margin: 0 0.4em 0.5em 0.4em;box-sizing: border-box;padding-bottom: 0.4em;background-color: white;}#sk-container-id-3 div.sk-label label {font-family: monospace;font-weight: bold;display: inline-block;line-height: 1.2em;}#sk-container-id-3 div.sk-label-container {text-align: center;}#sk-container-id-3 div.sk-container {/* jupyter's `normalize.less` sets `[hidden] { display: none; }` but bootstrap.min.css set `[hidden] { display: none !important; }` so we also need the `!important` here to be able to override the default hidden behavior on the sphinx rendered scikit-learn.org. See: https://github.com/scikit-learn/scikit-learn/issues/21755 */display: inline-block !important;position: relative;}#sk-container-id-3 div.sk-text-repr-fallback {display: none;}</style><div id=\"sk-container-id-3\" class=\"sk-top-container\"><div class=\"sk-text-repr-fallback\"><pre>MinMaxScaler()</pre><b>In a Jupyter environment, please rerun this cell to show the HTML representation or trust the notebook. <br />On GitHub, the HTML representation is unable to render, please try loading this page with nbviewer.org.</b></div><div class=\"sk-container\" hidden><div class=\"sk-item\"><div class=\"sk-estimator sk-toggleable\"><input class=\"sk-toggleable__control sk-hidden--visually\" id=\"sk-estimator-id-3\" type=\"checkbox\" checked><label for=\"sk-estimator-id-3\" class=\"sk-toggleable__label sk-toggleable__label-arrow\">MinMaxScaler</label><div class=\"sk-toggleable__content\"><pre>MinMaxScaler()</pre></div></div></div></div></div>"
      ],
      "text/plain": [
       "MinMaxScaler()"
      ]
     },
     "execution_count": 23,
     "metadata": {},
     "output_type": "execute_result"
    }
   ],
   "source": [
    "scaler.fit(X_train)"
   ]
  },
  {
   "cell_type": "code",
   "execution_count": 24,
   "metadata": {},
   "outputs": [],
   "source": [
    "scaled_X_train = scaler.transform(X_train)"
   ]
  },
  {
   "cell_type": "code",
   "execution_count": 25,
   "metadata": {},
   "outputs": [],
   "source": [
    "scaled_X_test = scaler.transform(X_test)"
   ]
  },
  {
   "cell_type": "markdown",
   "metadata": {},
   "source": [
    "## Model\n",
    "\n",
    "\n",
    "### Creating the Model"
   ]
  },
  {
   "cell_type": "code",
   "execution_count": 33,
   "metadata": {},
   "outputs": [],
   "source": [
    "import tensorflow as tf\n"
   ]
  },
  {
   "cell_type": "code",
   "execution_count": 35,
   "metadata": {},
   "outputs": [],
   "source": [
    "# Import TensorFlow\n",
    "import tensorflow as tf\n",
    "\n",
    "# For compatibility mode\n",
    "optimizer = tf.compat.v1.train.AdamOptimizer(learning_rate=0.001)\n",
    "\n",
    "# Or using the recommended tf.keras.optimizers API\n",
    "optimizer = tf.keras.optimizers.Adam(learning_rate=0.001)\n"
   ]
  },
  {
   "cell_type": "code",
   "execution_count": 36,
   "metadata": {},
   "outputs": [],
   "source": [
    "from tensorflow.keras.models import Sequential\n",
    "from tensorflow.keras.layers import Dense"
   ]
  },
  {
   "cell_type": "code",
   "execution_count": 37,
   "metadata": {},
   "outputs": [],
   "source": [
    "# define the keras model\n",
    "model = Sequential()\n",
    "model.add(Dense(12, input_dim=8, activation='relu'))\n",
    "model.add(Dense(8, activation='relu'))\n",
    "\n",
    "# la ultima capa para clasificacion binaria\n",
    "model.add(Dense(1, activation='sigmoid'))"
   ]
  },
  {
   "cell_type": "code",
   "execution_count": 38,
   "metadata": {},
   "outputs": [],
   "source": [
    "# compile the keras model\n",
    "model.compile(loss='binary_crossentropy', optimizer='adam', metrics=['accuracy'])"
   ]
  },
  {
   "cell_type": "markdown",
   "metadata": {},
   "source": [
    "## Model Training"
   ]
  },
  {
   "cell_type": "code",
   "execution_count": 39,
   "metadata": {},
   "outputs": [],
   "source": [
    "from tensorflow.keras.callbacks import EarlyStopping"
   ]
  },
  {
   "cell_type": "code",
   "execution_count": 40,
   "metadata": {},
   "outputs": [],
   "source": [
    "early_stop = EarlyStopping(patience=14)"
   ]
  },
  {
   "cell_type": "code",
   "execution_count": 41,
   "metadata": {},
   "outputs": [
    {
     "name": "stdout",
     "output_type": "stream",
     "text": [
      "Epoch 1/400\n",
      "WARNING:tensorflow:From C:\\Users\\nicol\\anaconda3\\Lib\\site-packages\\keras\\src\\utils\\tf_utils.py:492: The name tf.ragged.RaggedTensorValue is deprecated. Please use tf.compat.v1.ragged.RaggedTensorValue instead.\n",
      "\n",
      "WARNING:tensorflow:From C:\\Users\\nicol\\anaconda3\\Lib\\site-packages\\keras\\src\\engine\\base_layer_utils.py:384: The name tf.executing_eagerly_outside_functions is deprecated. Please use tf.compat.v1.executing_eagerly_outside_functions instead.\n",
      "\n",
      "20/20 [==============================] - 2s 19ms/step - loss: 0.6980 - accuracy: 0.4251 - val_loss: 0.6923 - val_accuracy: 0.5065\n",
      "Epoch 2/400\n",
      "20/20 [==============================] - 0s 4ms/step - loss: 0.6878 - accuracy: 0.6368 - val_loss: 0.6824 - val_accuracy: 0.6688\n",
      "Epoch 3/400\n",
      "20/20 [==============================] - 0s 4ms/step - loss: 0.6803 - accuracy: 0.6629 - val_loss: 0.6749 - val_accuracy: 0.6623\n",
      "Epoch 4/400\n",
      "20/20 [==============================] - 0s 4ms/step - loss: 0.6742 - accuracy: 0.6466 - val_loss: 0.6675 - val_accuracy: 0.6688\n",
      "Epoch 5/400\n",
      "20/20 [==============================] - 0s 4ms/step - loss: 0.6669 - accuracy: 0.6466 - val_loss: 0.6604 - val_accuracy: 0.6688\n",
      "Epoch 6/400\n",
      "20/20 [==============================] - 0s 4ms/step - loss: 0.6614 - accuracy: 0.6466 - val_loss: 0.6540 - val_accuracy: 0.6688\n",
      "Epoch 7/400\n",
      "20/20 [==============================] - 0s 4ms/step - loss: 0.6572 - accuracy: 0.6466 - val_loss: 0.6490 - val_accuracy: 0.6688\n",
      "Epoch 8/400\n",
      "20/20 [==============================] - 0s 4ms/step - loss: 0.6538 - accuracy: 0.6466 - val_loss: 0.6447 - val_accuracy: 0.6688\n",
      "Epoch 9/400\n",
      "20/20 [==============================] - 0s 4ms/step - loss: 0.6498 - accuracy: 0.6466 - val_loss: 0.6402 - val_accuracy: 0.6688\n",
      "Epoch 10/400\n",
      "20/20 [==============================] - 0s 4ms/step - loss: 0.6447 - accuracy: 0.6466 - val_loss: 0.6360 - val_accuracy: 0.6688\n",
      "Epoch 11/400\n",
      "20/20 [==============================] - 0s 4ms/step - loss: 0.6395 - accuracy: 0.6466 - val_loss: 0.6329 - val_accuracy: 0.6688\n",
      "Epoch 12/400\n",
      "20/20 [==============================] - 0s 4ms/step - loss: 0.6361 - accuracy: 0.6466 - val_loss: 0.6293 - val_accuracy: 0.6688\n",
      "Epoch 13/400\n",
      "20/20 [==============================] - 0s 4ms/step - loss: 0.6325 - accuracy: 0.6466 - val_loss: 0.6256 - val_accuracy: 0.6688\n",
      "Epoch 14/400\n",
      "20/20 [==============================] - 0s 4ms/step - loss: 0.6297 - accuracy: 0.6482 - val_loss: 0.6236 - val_accuracy: 0.6688\n",
      "Epoch 15/400\n",
      "20/20 [==============================] - 0s 4ms/step - loss: 0.6263 - accuracy: 0.6466 - val_loss: 0.6191 - val_accuracy: 0.6688\n",
      "Epoch 16/400\n",
      "20/20 [==============================] - 0s 4ms/step - loss: 0.6222 - accuracy: 0.6482 - val_loss: 0.6158 - val_accuracy: 0.6688\n",
      "Epoch 17/400\n",
      "20/20 [==============================] - 0s 4ms/step - loss: 0.6189 - accuracy: 0.6515 - val_loss: 0.6123 - val_accuracy: 0.6623\n",
      "Epoch 18/400\n",
      "20/20 [==============================] - 0s 5ms/step - loss: 0.6155 - accuracy: 0.6564 - val_loss: 0.6087 - val_accuracy: 0.6494\n",
      "Epoch 19/400\n",
      "20/20 [==============================] - 0s 5ms/step - loss: 0.6117 - accuracy: 0.6596 - val_loss: 0.6055 - val_accuracy: 0.6494\n",
      "Epoch 20/400\n",
      "20/20 [==============================] - 0s 5ms/step - loss: 0.6081 - accuracy: 0.6629 - val_loss: 0.6022 - val_accuracy: 0.6494\n",
      "Epoch 21/400\n",
      "20/20 [==============================] - 0s 4ms/step - loss: 0.6039 - accuracy: 0.6612 - val_loss: 0.5999 - val_accuracy: 0.6753\n",
      "Epoch 22/400\n",
      "20/20 [==============================] - 0s 4ms/step - loss: 0.6004 - accuracy: 0.6759 - val_loss: 0.5967 - val_accuracy: 0.6883\n",
      "Epoch 23/400\n",
      "20/20 [==============================] - 0s 4ms/step - loss: 0.5967 - accuracy: 0.6857 - val_loss: 0.5929 - val_accuracy: 0.6883\n",
      "Epoch 24/400\n",
      "20/20 [==============================] - 0s 4ms/step - loss: 0.5932 - accuracy: 0.6792 - val_loss: 0.5885 - val_accuracy: 0.6948\n",
      "Epoch 25/400\n",
      "20/20 [==============================] - 0s 4ms/step - loss: 0.5891 - accuracy: 0.6954 - val_loss: 0.5859 - val_accuracy: 0.6753\n",
      "Epoch 26/400\n",
      "20/20 [==============================] - 0s 4ms/step - loss: 0.5858 - accuracy: 0.6906 - val_loss: 0.5832 - val_accuracy: 0.6623\n",
      "Epoch 27/400\n",
      "20/20 [==============================] - 0s 4ms/step - loss: 0.5810 - accuracy: 0.7085 - val_loss: 0.5772 - val_accuracy: 0.6948\n",
      "Epoch 28/400\n",
      "20/20 [==============================] - 0s 5ms/step - loss: 0.5775 - accuracy: 0.7020 - val_loss: 0.5744 - val_accuracy: 0.6818\n",
      "Epoch 29/400\n",
      "20/20 [==============================] - 0s 4ms/step - loss: 0.5733 - accuracy: 0.7085 - val_loss: 0.5715 - val_accuracy: 0.6688\n",
      "Epoch 30/400\n",
      "20/20 [==============================] - 0s 4ms/step - loss: 0.5695 - accuracy: 0.7101 - val_loss: 0.5670 - val_accuracy: 0.6688\n",
      "Epoch 31/400\n",
      "20/20 [==============================] - 0s 4ms/step - loss: 0.5667 - accuracy: 0.7117 - val_loss: 0.5625 - val_accuracy: 0.6818\n",
      "Epoch 32/400\n",
      "20/20 [==============================] - 0s 4ms/step - loss: 0.5624 - accuracy: 0.7215 - val_loss: 0.5593 - val_accuracy: 0.6818\n",
      "Epoch 33/400\n",
      "20/20 [==============================] - 0s 4ms/step - loss: 0.5561 - accuracy: 0.7329 - val_loss: 0.5521 - val_accuracy: 0.6883\n",
      "Epoch 34/400\n",
      "20/20 [==============================] - 0s 4ms/step - loss: 0.5536 - accuracy: 0.7264 - val_loss: 0.5466 - val_accuracy: 0.7013\n",
      "Epoch 35/400\n",
      "20/20 [==============================] - 0s 4ms/step - loss: 0.5491 - accuracy: 0.7215 - val_loss: 0.5411 - val_accuracy: 0.7143\n",
      "Epoch 36/400\n",
      "20/20 [==============================] - 0s 4ms/step - loss: 0.5448 - accuracy: 0.7329 - val_loss: 0.5376 - val_accuracy: 0.7013\n",
      "Epoch 37/400\n",
      "20/20 [==============================] - 0s 5ms/step - loss: 0.5405 - accuracy: 0.7362 - val_loss: 0.5309 - val_accuracy: 0.7273\n",
      "Epoch 38/400\n",
      "20/20 [==============================] - 0s 5ms/step - loss: 0.5366 - accuracy: 0.7427 - val_loss: 0.5256 - val_accuracy: 0.7273\n",
      "Epoch 39/400\n",
      "20/20 [==============================] - 0s 4ms/step - loss: 0.5327 - accuracy: 0.7410 - val_loss: 0.5196 - val_accuracy: 0.7662\n",
      "Epoch 40/400\n",
      "20/20 [==============================] - 0s 5ms/step - loss: 0.5306 - accuracy: 0.7410 - val_loss: 0.5152 - val_accuracy: 0.7727\n",
      "Epoch 41/400\n",
      "20/20 [==============================] - 0s 5ms/step - loss: 0.5247 - accuracy: 0.7508 - val_loss: 0.5100 - val_accuracy: 0.7532\n",
      "Epoch 42/400\n",
      "20/20 [==============================] - 0s 5ms/step - loss: 0.5205 - accuracy: 0.7573 - val_loss: 0.5069 - val_accuracy: 0.7532\n",
      "Epoch 43/400\n",
      "20/20 [==============================] - 0s 5ms/step - loss: 0.5174 - accuracy: 0.7476 - val_loss: 0.5015 - val_accuracy: 0.7597\n",
      "Epoch 44/400\n",
      "20/20 [==============================] - 0s 5ms/step - loss: 0.5143 - accuracy: 0.7541 - val_loss: 0.4991 - val_accuracy: 0.7727\n",
      "Epoch 45/400\n",
      "20/20 [==============================] - 0s 4ms/step - loss: 0.5106 - accuracy: 0.7573 - val_loss: 0.4945 - val_accuracy: 0.7662\n",
      "Epoch 46/400\n",
      "20/20 [==============================] - 0s 4ms/step - loss: 0.5102 - accuracy: 0.7524 - val_loss: 0.4921 - val_accuracy: 0.7662\n",
      "Epoch 47/400\n",
      "20/20 [==============================] - 0s 4ms/step - loss: 0.5065 - accuracy: 0.7524 - val_loss: 0.4902 - val_accuracy: 0.7662\n",
      "Epoch 48/400\n",
      "20/20 [==============================] - 0s 4ms/step - loss: 0.5034 - accuracy: 0.7590 - val_loss: 0.4864 - val_accuracy: 0.7662\n",
      "Epoch 49/400\n",
      "20/20 [==============================] - 0s 4ms/step - loss: 0.5005 - accuracy: 0.7622 - val_loss: 0.4834 - val_accuracy: 0.7727\n",
      "Epoch 50/400\n",
      "20/20 [==============================] - 0s 4ms/step - loss: 0.4980 - accuracy: 0.7606 - val_loss: 0.4819 - val_accuracy: 0.7792\n",
      "Epoch 51/400\n",
      "20/20 [==============================] - 0s 4ms/step - loss: 0.4958 - accuracy: 0.7655 - val_loss: 0.4800 - val_accuracy: 0.7922\n",
      "Epoch 52/400\n",
      "20/20 [==============================] - 0s 4ms/step - loss: 0.4938 - accuracy: 0.7606 - val_loss: 0.4751 - val_accuracy: 0.7727\n",
      "Epoch 53/400\n",
      "20/20 [==============================] - 0s 4ms/step - loss: 0.4920 - accuracy: 0.7638 - val_loss: 0.4744 - val_accuracy: 0.7922\n",
      "Epoch 54/400\n",
      "20/20 [==============================] - 0s 4ms/step - loss: 0.4898 - accuracy: 0.7671 - val_loss: 0.4731 - val_accuracy: 0.7792\n",
      "Epoch 55/400\n",
      "20/20 [==============================] - 0s 4ms/step - loss: 0.4890 - accuracy: 0.7720 - val_loss: 0.4701 - val_accuracy: 0.7857\n",
      "Epoch 56/400\n",
      "20/20 [==============================] - 0s 5ms/step - loss: 0.4858 - accuracy: 0.7622 - val_loss: 0.4714 - val_accuracy: 0.7857\n",
      "Epoch 57/400\n",
      "20/20 [==============================] - 0s 4ms/step - loss: 0.4845 - accuracy: 0.7687 - val_loss: 0.4654 - val_accuracy: 0.7857\n",
      "Epoch 58/400\n",
      "20/20 [==============================] - 0s 5ms/step - loss: 0.4832 - accuracy: 0.7704 - val_loss: 0.4659 - val_accuracy: 0.7857\n",
      "Epoch 59/400\n",
      "20/20 [==============================] - 0s 5ms/step - loss: 0.4824 - accuracy: 0.7671 - val_loss: 0.4637 - val_accuracy: 0.7987\n",
      "Epoch 60/400\n",
      "20/20 [==============================] - 0s 4ms/step - loss: 0.4807 - accuracy: 0.7687 - val_loss: 0.4650 - val_accuracy: 0.7922\n",
      "Epoch 61/400\n",
      "20/20 [==============================] - 0s 5ms/step - loss: 0.4787 - accuracy: 0.7704 - val_loss: 0.4623 - val_accuracy: 0.7922\n",
      "Epoch 62/400\n",
      "20/20 [==============================] - 0s 5ms/step - loss: 0.4770 - accuracy: 0.7655 - val_loss: 0.4604 - val_accuracy: 0.7857\n",
      "Epoch 63/400\n",
      "20/20 [==============================] - 0s 5ms/step - loss: 0.4764 - accuracy: 0.7720 - val_loss: 0.4605 - val_accuracy: 0.7922\n",
      "Epoch 64/400\n",
      "20/20 [==============================] - 0s 5ms/step - loss: 0.4751 - accuracy: 0.7704 - val_loss: 0.4577 - val_accuracy: 0.8052\n",
      "Epoch 65/400\n",
      "20/20 [==============================] - 0s 5ms/step - loss: 0.4749 - accuracy: 0.7752 - val_loss: 0.4555 - val_accuracy: 0.8052\n",
      "Epoch 66/400\n",
      "20/20 [==============================] - 0s 4ms/step - loss: 0.4726 - accuracy: 0.7736 - val_loss: 0.4550 - val_accuracy: 0.7922\n",
      "Epoch 67/400\n",
      "20/20 [==============================] - 0s 4ms/step - loss: 0.4726 - accuracy: 0.7752 - val_loss: 0.4559 - val_accuracy: 0.7857\n",
      "Epoch 68/400\n",
      "20/20 [==============================] - 0s 4ms/step - loss: 0.4704 - accuracy: 0.7736 - val_loss: 0.4539 - val_accuracy: 0.7922\n",
      "Epoch 69/400\n",
      "20/20 [==============================] - 0s 4ms/step - loss: 0.4691 - accuracy: 0.7785 - val_loss: 0.4542 - val_accuracy: 0.7857\n",
      "Epoch 70/400\n",
      "20/20 [==============================] - 0s 4ms/step - loss: 0.4689 - accuracy: 0.7687 - val_loss: 0.4513 - val_accuracy: 0.7987\n",
      "Epoch 71/400\n",
      "20/20 [==============================] - 0s 4ms/step - loss: 0.4667 - accuracy: 0.7769 - val_loss: 0.4549 - val_accuracy: 0.7857\n",
      "Epoch 72/400\n",
      "20/20 [==============================] - 0s 4ms/step - loss: 0.4670 - accuracy: 0.7769 - val_loss: 0.4518 - val_accuracy: 0.7857\n",
      "Epoch 73/400\n",
      "20/20 [==============================] - 0s 4ms/step - loss: 0.4666 - accuracy: 0.7834 - val_loss: 0.4493 - val_accuracy: 0.7922\n",
      "Epoch 74/400\n",
      "20/20 [==============================] - 0s 4ms/step - loss: 0.4659 - accuracy: 0.7801 - val_loss: 0.4544 - val_accuracy: 0.7857\n",
      "Epoch 75/400\n",
      "20/20 [==============================] - 0s 4ms/step - loss: 0.4642 - accuracy: 0.7818 - val_loss: 0.4477 - val_accuracy: 0.7987\n",
      "Epoch 76/400\n",
      "20/20 [==============================] - 0s 4ms/step - loss: 0.4644 - accuracy: 0.7818 - val_loss: 0.4488 - val_accuracy: 0.7857\n",
      "Epoch 77/400\n",
      "20/20 [==============================] - 0s 4ms/step - loss: 0.4637 - accuracy: 0.7769 - val_loss: 0.4462 - val_accuracy: 0.7922\n",
      "Epoch 78/400\n",
      "20/20 [==============================] - 0s 4ms/step - loss: 0.4635 - accuracy: 0.7801 - val_loss: 0.4487 - val_accuracy: 0.7857\n",
      "Epoch 79/400\n",
      "20/20 [==============================] - 0s 4ms/step - loss: 0.4635 - accuracy: 0.7818 - val_loss: 0.4471 - val_accuracy: 0.7857\n",
      "Epoch 80/400\n",
      "20/20 [==============================] - 0s 4ms/step - loss: 0.4606 - accuracy: 0.7834 - val_loss: 0.4457 - val_accuracy: 0.7857\n",
      "Epoch 81/400\n",
      "20/20 [==============================] - 0s 4ms/step - loss: 0.4622 - accuracy: 0.7850 - val_loss: 0.4461 - val_accuracy: 0.7922\n",
      "Epoch 82/400\n",
      "20/20 [==============================] - 0s 4ms/step - loss: 0.4599 - accuracy: 0.7769 - val_loss: 0.4510 - val_accuracy: 0.7857\n",
      "Epoch 83/400\n",
      "20/20 [==============================] - 0s 4ms/step - loss: 0.4679 - accuracy: 0.7769 - val_loss: 0.4459 - val_accuracy: 0.7857\n",
      "Epoch 84/400\n",
      "20/20 [==============================] - 0s 4ms/step - loss: 0.4624 - accuracy: 0.7834 - val_loss: 0.4475 - val_accuracy: 0.7857\n",
      "Epoch 85/400\n",
      "20/20 [==============================] - 0s 4ms/step - loss: 0.4620 - accuracy: 0.7801 - val_loss: 0.4465 - val_accuracy: 0.7857\n",
      "Epoch 86/400\n",
      "20/20 [==============================] - 0s 5ms/step - loss: 0.4587 - accuracy: 0.7850 - val_loss: 0.4453 - val_accuracy: 0.7857\n",
      "Epoch 87/400\n",
      "20/20 [==============================] - 0s 4ms/step - loss: 0.4581 - accuracy: 0.7899 - val_loss: 0.4465 - val_accuracy: 0.7857\n",
      "Epoch 88/400\n",
      "20/20 [==============================] - 0s 5ms/step - loss: 0.4610 - accuracy: 0.7801 - val_loss: 0.4464 - val_accuracy: 0.7922\n",
      "Epoch 89/400\n",
      "20/20 [==============================] - 0s 5ms/step - loss: 0.4604 - accuracy: 0.7883 - val_loss: 0.4449 - val_accuracy: 0.7922\n",
      "Epoch 90/400\n",
      "20/20 [==============================] - 0s 4ms/step - loss: 0.4570 - accuracy: 0.7834 - val_loss: 0.4494 - val_accuracy: 0.7857\n",
      "Epoch 91/400\n",
      "20/20 [==============================] - 0s 4ms/step - loss: 0.4569 - accuracy: 0.7769 - val_loss: 0.4441 - val_accuracy: 0.7922\n",
      "Epoch 92/400\n",
      "20/20 [==============================] - 0s 4ms/step - loss: 0.4559 - accuracy: 0.7850 - val_loss: 0.4442 - val_accuracy: 0.7922\n",
      "Epoch 93/400\n",
      "20/20 [==============================] - 0s 4ms/step - loss: 0.4564 - accuracy: 0.7915 - val_loss: 0.4448 - val_accuracy: 0.7922\n",
      "Epoch 94/400\n",
      "20/20 [==============================] - 0s 4ms/step - loss: 0.4551 - accuracy: 0.7818 - val_loss: 0.4439 - val_accuracy: 0.7857\n",
      "Epoch 95/400\n",
      "20/20 [==============================] - 0s 4ms/step - loss: 0.4572 - accuracy: 0.7850 - val_loss: 0.4510 - val_accuracy: 0.7792\n",
      "Epoch 96/400\n",
      "20/20 [==============================] - 0s 4ms/step - loss: 0.4543 - accuracy: 0.7818 - val_loss: 0.4428 - val_accuracy: 0.7987\n",
      "Epoch 97/400\n",
      "20/20 [==============================] - 0s 5ms/step - loss: 0.4557 - accuracy: 0.7850 - val_loss: 0.4478 - val_accuracy: 0.7857\n",
      "Epoch 98/400\n",
      "20/20 [==============================] - 0s 4ms/step - loss: 0.4546 - accuracy: 0.7801 - val_loss: 0.4447 - val_accuracy: 0.7987\n",
      "Epoch 99/400\n",
      "20/20 [==============================] - 0s 4ms/step - loss: 0.4532 - accuracy: 0.7834 - val_loss: 0.4458 - val_accuracy: 0.7922\n",
      "Epoch 100/400\n",
      "20/20 [==============================] - 0s 4ms/step - loss: 0.4550 - accuracy: 0.7785 - val_loss: 0.4446 - val_accuracy: 0.7987\n",
      "Epoch 101/400\n",
      "20/20 [==============================] - 0s 4ms/step - loss: 0.4530 - accuracy: 0.7801 - val_loss: 0.4459 - val_accuracy: 0.7857\n",
      "Epoch 102/400\n",
      "20/20 [==============================] - 0s 5ms/step - loss: 0.4554 - accuracy: 0.7866 - val_loss: 0.4468 - val_accuracy: 0.7922\n",
      "Epoch 103/400\n",
      "20/20 [==============================] - 0s 4ms/step - loss: 0.4531 - accuracy: 0.7785 - val_loss: 0.4469 - val_accuracy: 0.7922\n",
      "Epoch 104/400\n",
      "20/20 [==============================] - 0s 4ms/step - loss: 0.4534 - accuracy: 0.7866 - val_loss: 0.4463 - val_accuracy: 0.7922\n",
      "Epoch 105/400\n",
      "20/20 [==============================] - 0s 4ms/step - loss: 0.4543 - accuracy: 0.7818 - val_loss: 0.4471 - val_accuracy: 0.7922\n",
      "Epoch 106/400\n",
      "20/20 [==============================] - 0s 4ms/step - loss: 0.4516 - accuracy: 0.7866 - val_loss: 0.4441 - val_accuracy: 0.7857\n",
      "Epoch 107/400\n",
      "20/20 [==============================] - 0s 4ms/step - loss: 0.4516 - accuracy: 0.7948 - val_loss: 0.4469 - val_accuracy: 0.7922\n",
      "Epoch 108/400\n",
      "20/20 [==============================] - 0s 4ms/step - loss: 0.4544 - accuracy: 0.7785 - val_loss: 0.4441 - val_accuracy: 0.7922\n",
      "Epoch 109/400\n",
      "20/20 [==============================] - 0s 5ms/step - loss: 0.4514 - accuracy: 0.7948 - val_loss: 0.4458 - val_accuracy: 0.7857\n",
      "Epoch 110/400\n",
      "20/20 [==============================] - 0s 4ms/step - loss: 0.4510 - accuracy: 0.7915 - val_loss: 0.4443 - val_accuracy: 0.7857\n"
     ]
    },
    {
     "data": {
      "text/plain": [
       "<keras.src.callbacks.History at 0x20065fb0e90>"
      ]
     },
     "execution_count": 41,
     "metadata": {},
     "output_type": "execute_result"
    }
   ],
   "source": [
    "model.fit(x=scaled_X_train, \n",
    "          y=y_train, \n",
    "          epochs=400,\n",
    "          validation_data=(scaled_X_test, y_test), verbose=1 ,\n",
    "          callbacks=[early_stop])"
   ]
  },
  {
   "cell_type": "markdown",
   "metadata": {},
   "source": [
    "## Model Evaluation"
   ]
  },
  {
   "cell_type": "code",
   "execution_count": 42,
   "metadata": {},
   "outputs": [],
   "source": [
    "metrics = pd.DataFrame(model.history.history)"
   ]
  },
  {
   "cell_type": "code",
   "execution_count": 43,
   "metadata": {},
   "outputs": [
    {
     "data": {
      "text/html": [
       "<div>\n",
       "<style scoped>\n",
       "    .dataframe tbody tr th:only-of-type {\n",
       "        vertical-align: middle;\n",
       "    }\n",
       "\n",
       "    .dataframe tbody tr th {\n",
       "        vertical-align: top;\n",
       "    }\n",
       "\n",
       "    .dataframe thead th {\n",
       "        text-align: right;\n",
       "    }\n",
       "</style>\n",
       "<table border=\"1\" class=\"dataframe\">\n",
       "  <thead>\n",
       "    <tr style=\"text-align: right;\">\n",
       "      <th></th>\n",
       "      <th>loss</th>\n",
       "      <th>accuracy</th>\n",
       "      <th>val_loss</th>\n",
       "      <th>val_accuracy</th>\n",
       "    </tr>\n",
       "  </thead>\n",
       "  <tbody>\n",
       "    <tr>\n",
       "      <th>0</th>\n",
       "      <td>0.697964</td>\n",
       "      <td>0.425081</td>\n",
       "      <td>0.692313</td>\n",
       "      <td>0.506494</td>\n",
       "    </tr>\n",
       "    <tr>\n",
       "      <th>1</th>\n",
       "      <td>0.687786</td>\n",
       "      <td>0.636808</td>\n",
       "      <td>0.682426</td>\n",
       "      <td>0.668831</td>\n",
       "    </tr>\n",
       "    <tr>\n",
       "      <th>2</th>\n",
       "      <td>0.680345</td>\n",
       "      <td>0.662866</td>\n",
       "      <td>0.674905</td>\n",
       "      <td>0.662338</td>\n",
       "    </tr>\n",
       "    <tr>\n",
       "      <th>3</th>\n",
       "      <td>0.674181</td>\n",
       "      <td>0.646580</td>\n",
       "      <td>0.667479</td>\n",
       "      <td>0.668831</td>\n",
       "    </tr>\n",
       "    <tr>\n",
       "      <th>4</th>\n",
       "      <td>0.666921</td>\n",
       "      <td>0.646580</td>\n",
       "      <td>0.660401</td>\n",
       "      <td>0.668831</td>\n",
       "    </tr>\n",
       "    <tr>\n",
       "      <th>...</th>\n",
       "      <td>...</td>\n",
       "      <td>...</td>\n",
       "      <td>...</td>\n",
       "      <td>...</td>\n",
       "    </tr>\n",
       "    <tr>\n",
       "      <th>105</th>\n",
       "      <td>0.451560</td>\n",
       "      <td>0.786645</td>\n",
       "      <td>0.444107</td>\n",
       "      <td>0.785714</td>\n",
       "    </tr>\n",
       "    <tr>\n",
       "      <th>106</th>\n",
       "      <td>0.451625</td>\n",
       "      <td>0.794788</td>\n",
       "      <td>0.446939</td>\n",
       "      <td>0.792208</td>\n",
       "    </tr>\n",
       "    <tr>\n",
       "      <th>107</th>\n",
       "      <td>0.454394</td>\n",
       "      <td>0.778502</td>\n",
       "      <td>0.444130</td>\n",
       "      <td>0.792208</td>\n",
       "    </tr>\n",
       "    <tr>\n",
       "      <th>108</th>\n",
       "      <td>0.451410</td>\n",
       "      <td>0.794788</td>\n",
       "      <td>0.445783</td>\n",
       "      <td>0.785714</td>\n",
       "    </tr>\n",
       "    <tr>\n",
       "      <th>109</th>\n",
       "      <td>0.451018</td>\n",
       "      <td>0.791531</td>\n",
       "      <td>0.444335</td>\n",
       "      <td>0.785714</td>\n",
       "    </tr>\n",
       "  </tbody>\n",
       "</table>\n",
       "<p>110 rows × 4 columns</p>\n",
       "</div>"
      ],
      "text/plain": [
       "         loss  accuracy  val_loss  val_accuracy\n",
       "0    0.697964  0.425081  0.692313      0.506494\n",
       "1    0.687786  0.636808  0.682426      0.668831\n",
       "2    0.680345  0.662866  0.674905      0.662338\n",
       "3    0.674181  0.646580  0.667479      0.668831\n",
       "4    0.666921  0.646580  0.660401      0.668831\n",
       "..        ...       ...       ...           ...\n",
       "105  0.451560  0.786645  0.444107      0.785714\n",
       "106  0.451625  0.794788  0.446939      0.792208\n",
       "107  0.454394  0.778502  0.444130      0.792208\n",
       "108  0.451410  0.794788  0.445783      0.785714\n",
       "109  0.451018  0.791531  0.444335      0.785714\n",
       "\n",
       "[110 rows x 4 columns]"
      ]
     },
     "execution_count": 43,
     "metadata": {},
     "output_type": "execute_result"
    }
   ],
   "source": [
    "metrics"
   ]
  },
  {
   "cell_type": "code",
   "execution_count": 44,
   "metadata": {},
   "outputs": [
    {
     "data": {
      "text/plain": [
       "<Axes: >"
      ]
     },
     "execution_count": 44,
     "metadata": {},
     "output_type": "execute_result"
    },
    {
     "data": {
      "image/png": "[encoded data removed]",
      "text/plain": [
       "<Figure size 640x480 with 1 Axes>"
      ]
     },
     "metadata": {},
     "output_type": "display_data"
    }
   ],
   "source": [
    "metrics[['loss','val_loss']].plot()"
   ]
  },
  {
   "cell_type": "code",
   "execution_count": 47,
   "metadata": {},
   "outputs": [
    {
     "data": {
      "text/plain": [
       "<Axes: >"
      ]
     },
     "execution_count": 47,
     "metadata": {},
     "output_type": "execute_result"
    },
    {
     "data": {
      "image/png": "[encoded data removed]",
      "text/plain": [
       "<Figure size 640x480 with 1 Axes>"
      ]
     },
     "metadata": {},
     "output_type": "display_data"
    }
   ],
   "source": [
    "metrics[['accuracy', 'val_accuracy']].plot()\n"
   ]
  },
  {
   "cell_type": "code",
   "execution_count": 48,
   "metadata": {},
   "outputs": [
    {
     "data": {
      "text/plain": [
       "[0.44433534145355225, 0.7857142686843872]"
      ]
     },
     "execution_count": 48,
     "metadata": {},
     "output_type": "execute_result"
    }
   ],
   "source": [
    "model.evaluate(scaled_X_test,y_test,verbose=0)"
   ]
  },
  {
   "cell_type": "markdown",
   "metadata": {},
   "source": [
    "## Ready Model for Deployment"
   ]
  },
  {
   "cell_type": "code",
   "execution_count": 49,
   "metadata": {},
   "outputs": [],
   "source": [
    "epochs = len(metrics)"
   ]
  },
  {
   "cell_type": "code",
   "execution_count": 50,
   "metadata": {},
   "outputs": [],
   "source": [
    "scaled_X = scaler.fit_transform(X)"
   ]
  },
  {
   "cell_type": "code",
   "execution_count": 51,
   "metadata": {},
   "outputs": [],
   "source": [
    "# define the keras model\n",
    "model = Sequential()\n",
    "model.add(Dense(12, input_dim=8, activation='relu'))\n",
    "model.add(Dense(8, activation='relu'))\n",
    "\n",
    "# la ultima capa para clasificacion binaria\n",
    "model.add(Dense(1, activation='sigmoid'))\n",
    "\n",
    "model.compile(loss='binary_crossentropy', optimizer='adam', metrics=['accuracy'])"
   ]
  },
  {
   "cell_type": "code",
   "execution_count": 52,
   "metadata": {},
   "outputs": [
    {
     "name": "stdout",
     "output_type": "stream",
     "text": [
      "Epoch 1/110\n",
      "24/24 [==============================] - 1s 2ms/step - loss: 0.6885 - accuracy: 0.6510\n",
      "Epoch 2/110\n",
      "24/24 [==============================] - 0s 2ms/step - loss: 0.6767 - accuracy: 0.6510\n",
      "Epoch 3/110\n",
      "24/24 [==============================] - 0s 2ms/step - loss: 0.6576 - accuracy: 0.6510\n",
      "Epoch 4/110\n",
      "24/24 [==============================] - 0s 2ms/step - loss: 0.6372 - accuracy: 0.6510\n",
      "Epoch 5/110\n",
      "24/24 [==============================] - 0s 2ms/step - loss: 0.6233 - accuracy: 0.6510\n",
      "Epoch 6/110\n",
      "24/24 [==============================] - 0s 2ms/step - loss: 0.6135 - accuracy: 0.6510\n",
      "Epoch 7/110\n",
      "24/24 [==============================] - 0s 2ms/step - loss: 0.6063 - accuracy: 0.6510\n",
      "Epoch 8/110\n",
      "24/24 [==============================] - 0s 2ms/step - loss: 0.5999 - accuracy: 0.6510\n",
      "Epoch 9/110\n",
      "24/24 [==============================] - 0s 2ms/step - loss: 0.5942 - accuracy: 0.6510\n",
      "Epoch 10/110\n",
      "24/24 [==============================] - 0s 2ms/step - loss: 0.5885 - accuracy: 0.6510\n",
      "Epoch 11/110\n",
      "24/24 [==============================] - 0s 2ms/step - loss: 0.5832 - accuracy: 0.6549\n",
      "Epoch 12/110\n",
      "24/24 [==============================] - 0s 2ms/step - loss: 0.5779 - accuracy: 0.6641\n",
      "Epoch 13/110\n",
      "24/24 [==============================] - 0s 2ms/step - loss: 0.5732 - accuracy: 0.6914\n",
      "Epoch 14/110\n",
      "24/24 [==============================] - 0s 2ms/step - loss: 0.5679 - accuracy: 0.7018\n",
      "Epoch 15/110\n",
      "24/24 [==============================] - 0s 2ms/step - loss: 0.5632 - accuracy: 0.7057\n",
      "Epoch 16/110\n",
      "24/24 [==============================] - 0s 2ms/step - loss: 0.5587 - accuracy: 0.7135\n",
      "Epoch 17/110\n",
      "24/24 [==============================] - 0s 2ms/step - loss: 0.5552 - accuracy: 0.7122\n",
      "Epoch 18/110\n",
      "24/24 [==============================] - 0s 2ms/step - loss: 0.5513 - accuracy: 0.7031\n",
      "Epoch 19/110\n",
      "24/24 [==============================] - 0s 2ms/step - loss: 0.5472 - accuracy: 0.7161\n",
      "Epoch 20/110\n",
      "24/24 [==============================] - 0s 2ms/step - loss: 0.5432 - accuracy: 0.7122\n",
      "Epoch 21/110\n",
      "24/24 [==============================] - 0s 2ms/step - loss: 0.5393 - accuracy: 0.7109\n",
      "Epoch 22/110\n",
      "24/24 [==============================] - 0s 2ms/step - loss: 0.5359 - accuracy: 0.7214\n",
      "Epoch 23/110\n",
      "24/24 [==============================] - 0s 2ms/step - loss: 0.5328 - accuracy: 0.7253\n",
      "Epoch 24/110\n",
      "24/24 [==============================] - 0s 2ms/step - loss: 0.5295 - accuracy: 0.7253\n",
      "Epoch 25/110\n",
      "24/24 [==============================] - 0s 2ms/step - loss: 0.5271 - accuracy: 0.7357\n",
      "Epoch 26/110\n",
      "24/24 [==============================] - 0s 2ms/step - loss: 0.5235 - accuracy: 0.7331\n",
      "Epoch 27/110\n",
      "24/24 [==============================] - 0s 2ms/step - loss: 0.5207 - accuracy: 0.7383\n",
      "Epoch 28/110\n",
      "24/24 [==============================] - 0s 2ms/step - loss: 0.5181 - accuracy: 0.7383\n",
      "Epoch 29/110\n",
      "24/24 [==============================] - 0s 2ms/step - loss: 0.5153 - accuracy: 0.7435\n",
      "Epoch 30/110\n",
      "24/24 [==============================] - 0s 2ms/step - loss: 0.5156 - accuracy: 0.7370\n",
      "Epoch 31/110\n",
      "24/24 [==============================] - 0s 2ms/step - loss: 0.5116 - accuracy: 0.7422\n",
      "Epoch 32/110\n",
      "24/24 [==============================] - 0s 2ms/step - loss: 0.5089 - accuracy: 0.7461\n",
      "Epoch 33/110\n",
      "24/24 [==============================] - 0s 2ms/step - loss: 0.5066 - accuracy: 0.7461\n",
      "Epoch 34/110\n",
      "24/24 [==============================] - 0s 2ms/step - loss: 0.5047 - accuracy: 0.7500\n",
      "Epoch 35/110\n",
      "24/24 [==============================] - 0s 2ms/step - loss: 0.5027 - accuracy: 0.7487\n",
      "Epoch 36/110\n",
      "24/24 [==============================] - 0s 2ms/step - loss: 0.5006 - accuracy: 0.7539\n",
      "Epoch 37/110\n",
      "24/24 [==============================] - 0s 2ms/step - loss: 0.4982 - accuracy: 0.7552\n",
      "Epoch 38/110\n",
      "24/24 [==============================] - 0s 2ms/step - loss: 0.4960 - accuracy: 0.7526\n",
      "Epoch 39/110\n",
      "24/24 [==============================] - 0s 2ms/step - loss: 0.4943 - accuracy: 0.7591\n",
      "Epoch 40/110\n",
      "24/24 [==============================] - 0s 2ms/step - loss: 0.4924 - accuracy: 0.7565\n",
      "Epoch 41/110\n",
      "24/24 [==============================] - 0s 2ms/step - loss: 0.4934 - accuracy: 0.7513\n",
      "Epoch 42/110\n",
      "24/24 [==============================] - 0s 2ms/step - loss: 0.4909 - accuracy: 0.7539\n",
      "Epoch 43/110\n",
      "24/24 [==============================] - 0s 2ms/step - loss: 0.4876 - accuracy: 0.7552\n",
      "Epoch 44/110\n",
      "24/24 [==============================] - 0s 2ms/step - loss: 0.4862 - accuracy: 0.7591\n",
      "Epoch 45/110\n",
      "24/24 [==============================] - 0s 2ms/step - loss: 0.4856 - accuracy: 0.7591\n",
      "Epoch 46/110\n",
      "24/24 [==============================] - 0s 2ms/step - loss: 0.4835 - accuracy: 0.7643\n",
      "Epoch 47/110\n",
      "24/24 [==============================] - 0s 2ms/step - loss: 0.4818 - accuracy: 0.7565\n",
      "Epoch 48/110\n",
      "24/24 [==============================] - 0s 2ms/step - loss: 0.4804 - accuracy: 0.7630\n",
      "Epoch 49/110\n",
      "24/24 [==============================] - 0s 2ms/step - loss: 0.4790 - accuracy: 0.7669\n",
      "Epoch 50/110\n",
      "24/24 [==============================] - 0s 2ms/step - loss: 0.4781 - accuracy: 0.7591\n",
      "Epoch 51/110\n",
      "24/24 [==============================] - 0s 2ms/step - loss: 0.4767 - accuracy: 0.7617\n",
      "Epoch 52/110\n",
      "24/24 [==============================] - 0s 2ms/step - loss: 0.4751 - accuracy: 0.7656\n",
      "Epoch 53/110\n",
      "24/24 [==============================] - 0s 2ms/step - loss: 0.4744 - accuracy: 0.7682\n",
      "Epoch 54/110\n",
      "24/24 [==============================] - 0s 2ms/step - loss: 0.4726 - accuracy: 0.7682\n",
      "Epoch 55/110\n",
      "24/24 [==============================] - 0s 2ms/step - loss: 0.4726 - accuracy: 0.7695\n",
      "Epoch 56/110\n",
      "24/24 [==============================] - 0s 2ms/step - loss: 0.4708 - accuracy: 0.7695\n",
      "Epoch 57/110\n",
      "24/24 [==============================] - 0s 2ms/step - loss: 0.4704 - accuracy: 0.7604\n",
      "Epoch 58/110\n",
      "24/24 [==============================] - 0s 2ms/step - loss: 0.4691 - accuracy: 0.7669\n",
      "Epoch 59/110\n",
      "24/24 [==============================] - 0s 2ms/step - loss: 0.4690 - accuracy: 0.7695\n",
      "Epoch 60/110\n",
      "24/24 [==============================] - 0s 2ms/step - loss: 0.4675 - accuracy: 0.7630\n",
      "Epoch 61/110\n",
      "24/24 [==============================] - 0s 2ms/step - loss: 0.4664 - accuracy: 0.7721\n",
      "Epoch 62/110\n",
      "24/24 [==============================] - 0s 2ms/step - loss: 0.4664 - accuracy: 0.7708\n",
      "Epoch 63/110\n",
      "24/24 [==============================] - 0s 2ms/step - loss: 0.4675 - accuracy: 0.7617\n",
      "Epoch 64/110\n",
      "24/24 [==============================] - 0s 2ms/step - loss: 0.4686 - accuracy: 0.7669\n",
      "Epoch 65/110\n",
      "24/24 [==============================] - 0s 2ms/step - loss: 0.4674 - accuracy: 0.7708\n",
      "Epoch 66/110\n",
      "24/24 [==============================] - 0s 2ms/step - loss: 0.4650 - accuracy: 0.7695\n",
      "Epoch 67/110\n",
      "24/24 [==============================] - 0s 2ms/step - loss: 0.4624 - accuracy: 0.7708\n",
      "Epoch 68/110\n",
      "24/24 [==============================] - 0s 2ms/step - loss: 0.4626 - accuracy: 0.7826\n",
      "Epoch 69/110\n",
      "24/24 [==============================] - 0s 2ms/step - loss: 0.4637 - accuracy: 0.7734\n",
      "Epoch 70/110\n",
      "24/24 [==============================] - 0s 2ms/step - loss: 0.4608 - accuracy: 0.7760\n",
      "Epoch 71/110\n",
      "24/24 [==============================] - 0s 2ms/step - loss: 0.4597 - accuracy: 0.7786\n",
      "Epoch 72/110\n",
      "24/24 [==============================] - 0s 2ms/step - loss: 0.4595 - accuracy: 0.7786\n",
      "Epoch 73/110\n",
      "24/24 [==============================] - 0s 2ms/step - loss: 0.4589 - accuracy: 0.7826\n",
      "Epoch 74/110\n",
      "24/24 [==============================] - 0s 2ms/step - loss: 0.4577 - accuracy: 0.7786\n",
      "Epoch 75/110\n",
      "24/24 [==============================] - 0s 2ms/step - loss: 0.4570 - accuracy: 0.7878\n",
      "Epoch 76/110\n",
      "24/24 [==============================] - 0s 2ms/step - loss: 0.4593 - accuracy: 0.7826\n",
      "Epoch 77/110\n",
      "24/24 [==============================] - 0s 2ms/step - loss: 0.4570 - accuracy: 0.7826\n",
      "Epoch 78/110\n",
      "24/24 [==============================] - 0s 2ms/step - loss: 0.4555 - accuracy: 0.7799\n",
      "Epoch 79/110\n",
      "24/24 [==============================] - 0s 2ms/step - loss: 0.4546 - accuracy: 0.7865\n",
      "Epoch 80/110\n",
      "24/24 [==============================] - 0s 2ms/step - loss: 0.4546 - accuracy: 0.7839\n",
      "Epoch 81/110\n",
      "24/24 [==============================] - 0s 2ms/step - loss: 0.4566 - accuracy: 0.7812\n",
      "Epoch 82/110\n",
      "24/24 [==============================] - 0s 2ms/step - loss: 0.4539 - accuracy: 0.7839\n",
      "Epoch 83/110\n"
     ]
    },
    {
     "name": "stdout",
     "output_type": "stream",
     "text": [
      "24/24 [==============================] - 0s 2ms/step - loss: 0.4528 - accuracy: 0.7852\n",
      "Epoch 84/110\n",
      "24/24 [==============================] - 0s 2ms/step - loss: 0.4530 - accuracy: 0.7826\n",
      "Epoch 85/110\n",
      "24/24 [==============================] - 0s 2ms/step - loss: 0.4517 - accuracy: 0.7839\n",
      "Epoch 86/110\n",
      "24/24 [==============================] - 0s 2ms/step - loss: 0.4512 - accuracy: 0.7852\n",
      "Epoch 87/110\n",
      "24/24 [==============================] - 0s 2ms/step - loss: 0.4522 - accuracy: 0.7865\n",
      "Epoch 88/110\n",
      "24/24 [==============================] - 0s 2ms/step - loss: 0.4537 - accuracy: 0.7786\n",
      "Epoch 89/110\n",
      "24/24 [==============================] - 0s 2ms/step - loss: 0.4563 - accuracy: 0.7826\n",
      "Epoch 90/110\n",
      "24/24 [==============================] - 0s 2ms/step - loss: 0.4493 - accuracy: 0.7839\n",
      "Epoch 91/110\n",
      "24/24 [==============================] - 0s 2ms/step - loss: 0.4510 - accuracy: 0.7812\n",
      "Epoch 92/110\n",
      "24/24 [==============================] - 0s 2ms/step - loss: 0.4494 - accuracy: 0.7891\n",
      "Epoch 93/110\n",
      "24/24 [==============================] - 0s 2ms/step - loss: 0.4490 - accuracy: 0.7852\n",
      "Epoch 94/110\n",
      "24/24 [==============================] - 0s 2ms/step - loss: 0.4484 - accuracy: 0.7865\n",
      "Epoch 95/110\n",
      "24/24 [==============================] - 0s 2ms/step - loss: 0.4494 - accuracy: 0.7812\n",
      "Epoch 96/110\n",
      "24/24 [==============================] - 0s 2ms/step - loss: 0.4484 - accuracy: 0.7878\n",
      "Epoch 97/110\n",
      "24/24 [==============================] - 0s 2ms/step - loss: 0.4483 - accuracy: 0.7852\n",
      "Epoch 98/110\n",
      "24/24 [==============================] - 0s 2ms/step - loss: 0.4478 - accuracy: 0.7891\n",
      "Epoch 99/110\n",
      "24/24 [==============================] - 0s 2ms/step - loss: 0.4469 - accuracy: 0.7891\n",
      "Epoch 100/110\n",
      "24/24 [==============================] - 0s 2ms/step - loss: 0.4467 - accuracy: 0.7891\n",
      "Epoch 101/110\n",
      "24/24 [==============================] - 0s 2ms/step - loss: 0.4462 - accuracy: 0.7852\n",
      "Epoch 102/110\n",
      "24/24 [==============================] - 0s 2ms/step - loss: 0.4458 - accuracy: 0.7878\n",
      "Epoch 103/110\n",
      "24/24 [==============================] - 0s 2ms/step - loss: 0.4466 - accuracy: 0.7891\n",
      "Epoch 104/110\n",
      "24/24 [==============================] - 0s 2ms/step - loss: 0.4458 - accuracy: 0.7826\n",
      "Epoch 105/110\n",
      "24/24 [==============================] - 0s 2ms/step - loss: 0.4457 - accuracy: 0.7865\n",
      "Epoch 106/110\n",
      "24/24 [==============================] - 0s 2ms/step - loss: 0.4446 - accuracy: 0.7878\n",
      "Epoch 107/110\n",
      "24/24 [==============================] - 0s 2ms/step - loss: 0.4460 - accuracy: 0.7799\n",
      "Epoch 108/110\n",
      "24/24 [==============================] - 0s 2ms/step - loss: 0.4468 - accuracy: 0.7891\n",
      "Epoch 109/110\n",
      "24/24 [==============================] - 0s 2ms/step - loss: 0.4441 - accuracy: 0.7865\n",
      "Epoch 110/110\n",
      "24/24 [==============================] - 0s 2ms/step - loss: 0.4453 - accuracy: 0.7878\n"
     ]
    },
    {
     "data": {
      "text/plain": [
       "<keras.src.callbacks.History at 0x2006d76f410>"
      ]
     },
     "execution_count": 52,
     "metadata": {},
     "output_type": "execute_result"
    }
   ],
   "source": [
    "model.fit(scaled_X,y,epochs=epochs)"
   ]
  },
  {
   "cell_type": "code",
   "execution_count": 53,
   "metadata": {},
   "outputs": [
    {
     "name": "stderr",
     "output_type": "stream",
     "text": [
      "C:\\Users\\nicol\\anaconda3\\Lib\\site-packages\\keras\\src\\engine\\training.py:3103: UserWarning: You are saving your model as an HDF5 file via `model.save()`. This file format is considered legacy. We recommend using instead the native Keras format, e.g. `model.save('my_model.keras')`.\n",
      "  saving_api.save_model(\n"
     ]
    }
   ],
   "source": [
    "model.save(\"final_data_model.h5\")"
   ]
  },
  {
   "cell_type": "markdown",
   "metadata": {},
   "source": [
    "### Saving Scaler"
   ]
  },
  {
   "cell_type": "code",
   "execution_count": 54,
   "metadata": {},
   "outputs": [],
   "source": [
    "import joblib"
   ]
  },
  {
   "cell_type": "code",
   "execution_count": 55,
   "metadata": {},
   "outputs": [
    {
     "data": {
      "text/plain": [
       "['data_scaler.pkl']"
      ]
     },
     "execution_count": 55,
     "metadata": {},
     "output_type": "execute_result"
    }
   ],
   "source": [
    "joblib.dump(scaler,'data_scaler.pkl')"
   ]
  },
  {
   "cell_type": "markdown",
   "metadata": {},
   "source": [
    "## Predicting a Single New Flower"
   ]
  },
  {
   "cell_type": "code",
   "execution_count": 56,
   "metadata": {},
   "outputs": [],
   "source": [
    "from tensorflow.keras.models import load_model"
   ]
  },
  {
   "cell_type": "code",
   "execution_count": 57,
   "metadata": {},
   "outputs": [],
   "source": [
    "model = load_model(\"final_data_model.h5\")\n",
    "scaler = joblib.load(\"data_scaler.pkl\")"
   ]
  },
  {
   "cell_type": "code",
   "execution_count": 58,
   "metadata": {},
   "outputs": [
    {
     "data": {
      "text/html": [
       "<div>\n",
       "<style scoped>\n",
       "    .dataframe tbody tr th:only-of-type {\n",
       "        vertical-align: middle;\n",
       "    }\n",
       "\n",
       "    .dataframe tbody tr th {\n",
       "        vertical-align: top;\n",
       "    }\n",
       "\n",
       "    .dataframe thead th {\n",
       "        text-align: right;\n",
       "    }\n",
       "</style>\n",
       "<table border=\"1\" class=\"dataframe\">\n",
       "  <thead>\n",
       "    <tr style=\"text-align: right;\">\n",
       "      <th></th>\n",
       "      <th>Pregnancies</th>\n",
       "      <th>Glucose</th>\n",
       "      <th>BloodPressure</th>\n",
       "      <th>SkinThickness</th>\n",
       "      <th>Insulin</th>\n",
       "      <th>BMI</th>\n",
       "      <th>DiabetesPedigreeFunction</th>\n",
       "      <th>Age</th>\n",
       "      <th>Outcome</th>\n",
       "    </tr>\n",
       "  </thead>\n",
       "  <tbody>\n",
       "    <tr>\n",
       "      <th>0</th>\n",
       "      <td>6</td>\n",
       "      <td>148</td>\n",
       "      <td>72</td>\n",
       "      <td>35</td>\n",
       "      <td>0</td>\n",
       "      <td>33.6</td>\n",
       "      <td>0.627</td>\n",
       "      <td>50</td>\n",
       "      <td>1</td>\n",
       "    </tr>\n",
       "  </tbody>\n",
       "</table>\n",
       "</div>"
      ],
      "text/plain": [
       "   Pregnancies  Glucose  BloodPressure  SkinThickness  Insulin   BMI  \\\n",
       "0            6      148             72             35        0  33.6   \n",
       "\n",
       "   DiabetesPedigreeFunction  Age  Outcome  \n",
       "0                     0.627   50        1  "
      ]
     },
     "execution_count": 58,
     "metadata": {},
     "output_type": "execute_result"
    }
   ],
   "source": [
    "data.head(1)"
   ]
  },
  {
   "cell_type": "code",
   "execution_count": 59,
   "metadata": {},
   "outputs": [],
   "source": [
    "patient_example = {'Pregnancies':3,\n",
    "                 'Glucose':3.5,\n",
    "                 'BloodPressure':45,\n",
    "                 'SkinThickness':11,\n",
    "                  'Insulin':0.5,\n",
    "                  'BMI':55,\n",
    "                  'DiabetesPedigreeFunction':0.78,\n",
    "                  'Age':50}\n"
   ]
  },
  {
   "cell_type": "code",
   "execution_count": 60,
   "metadata": {},
   "outputs": [
    {
     "data": {
      "text/plain": [
       "dict_keys(['Pregnancies', 'Glucose', 'BloodPressure', 'SkinThickness', 'Insulin', 'BMI', 'DiabetesPedigreeFunction', 'Age'])"
      ]
     },
     "execution_count": 60,
     "metadata": {},
     "output_type": "execute_result"
    }
   ],
   "source": [
    "patient_example.keys()"
   ]
  },
  {
   "cell_type": "code",
   "execution_count": 61,
   "metadata": {},
   "outputs": [],
   "source": [
    "def return_prediction(model,scaler,sample_json):\n",
    "  \n",
    "    Pregnancies = sample_json['Pregnancies']\n",
    "    Glucose = sample_json['Glucose']\n",
    "    BloodPressure = sample_json['BloodPressure']\n",
    "    SkinThickness = sample_json['SkinThickness']\n",
    "    Insulin = sample_json['Insulin']\n",
    "    BMI = sample_json['BMI']\n",
    "    DiabetesPedigreeFunction = sample_json['DiabetesPedigreeFunction']\n",
    "    Age = sample_json['Age']\n",
    "\n",
    "    \n",
    "    patient = [[Pregnancies, Glucose, BloodPressure, SkinThickness, Insulin, \n",
    "                BMI, DiabetesPedigreeFunction,Age]]\n",
    "    \n",
    "    patient = scaler.transform(patient)\n",
    "    \n",
    "    classes = np.array(['Normal', 'Diabetes'])\n",
    "    \n",
    "    predict_x = model.predict(patient)\n",
    "    class_ind=np.argmax(predict_x,axis=1)\n",
    "    \n",
    "    return classes[class_ind][0]\n",
    "                    "
   ]
  },
  {
   "cell_type": "code",
   "execution_count": 62,
   "metadata": {},
   "outputs": [
    {
     "name": "stdout",
     "output_type": "stream",
     "text": [
      "1/1 [==============================] - 0s 181ms/step\n"
     ]
    },
    {
     "data": {
      "text/plain": [
       "'Normal'"
      ]
     },
     "execution_count": 62,
     "metadata": {},
     "output_type": "execute_result"
    }
   ],
   "source": [
    "return_prediction(model,scaler,patient_example)"
   ]
  },
  {
   "cell_type": "markdown",
   "metadata": {},
   "source": [
    "# CODE FOR DEPLOYMENT:"
   ]
  },
  {
   "cell_type": "code",
   "execution_count": 5,
   "metadata": {},
   "outputs": [
    {
     "name": "stdout",
     "output_type": "stream",
     "text": [
      "1/1 [==============================] - 0s 287ms/step\n",
      "Diabetes\n"
     ]
    }
   ],
   "source": [
    "import numpy as np\n",
    "\n",
    "def return_prediction(model, scaler, sample_json):\n",
    "    # Extracting features from the sample\n",
    "    features = [sample_json['Pregnancies'], sample_json['Glucose'],\n",
    "                sample_json['BloodPressure'], sample_json['SkinThickness'],\n",
    "                sample_json['Insulin'], sample_json['BMI'],\n",
    "                sample_json['DiabetesPedigreeFunction'], sample_json['Age']]\n",
    "\n",
    "    # Reshaping and scaling the input data\n",
    "    patient = np.array([features])\n",
    "    patient = scaler.transform(patient)\n",
    "\n",
    "    # Predicting with the model\n",
    "    prediction = model.predict(patient)\n",
    "\n",
    "    # Assuming a binary classification with a single output neuron\n",
    "    class_ind = (prediction > 0.5).astype(int)  # Applying threshold\n",
    "    classes = np.array(['Normal', 'Diabetes'])\n",
    "\n",
    "    return classes[class_ind[0][0]]  # Adjust indexing based on your model's output shape\n",
    "\n",
    "# Sample input\n",
    "patient_example = {\n",
    "    'Pregnancies': 6,\n",
    "    'Glucose': 148,\n",
    "    'BloodPressure': 72,\n",
    "    'SkinThickness': 35,\n",
    "    'Insulin': 0,\n",
    "    'BMI': 33.6,\n",
    "    'DiabetesPedigreeFunction': 0.627,\n",
    "    'Age': 50\n",
    "}\n",
    "\n",
    "# Assuming the model and scaler are already loaded as per your code snippet\n",
    "result = return_prediction(model, scaler, patient_example)\n",
    "print(result)\n"
   ]
  },
  {
   "cell_type": "code",
   "execution_count": null,
   "metadata": {},
   "outputs": [],
   "source": []
  },
  {
   "cell_type": "code",
   "execution_count": null,
   "metadata": {},
   "outputs": [],
   "source": []
  }
 ],
 "metadata": {
  "kernelspec": {
   "display_name": "Python 3 (ipykernel)",
   "language": "python",
   "name": "python3"
  },
  "language_info": {
   "codemirror_mode": {
    "name": "ipython",
    "version": 3
   },
   "file_extension": ".py",
   "mimetype": "text/x-python",
   "name": "python",
   "nbconvert_exporter": "python",
   "pygments_lexer": "ipython3",
   "version": "3.11.5"
  }
 },
 "nbformat": 4,
 "nbformat_minor": 2
}
